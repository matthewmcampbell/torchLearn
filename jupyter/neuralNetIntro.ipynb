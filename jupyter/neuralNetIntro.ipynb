{
 "cells": [
  {
   "cell_type": "markdown",
   "id": "fc92a186",
   "metadata": {},
   "source": [
    "## Importing the nn library and applying to a tensor."
   ]
  },
  {
   "cell_type": "code",
   "execution_count": 1,
   "id": "349b0f22",
   "metadata": {},
   "outputs": [],
   "source": [
    "import torch\n",
    "import torch.nn as nn\n",
    "from torch import Tensor\n",
    "from torch import optim\n",
    "import numpy as np"
   ]
  },
  {
   "cell_type": "code",
   "execution_count": 2,
   "id": "c1f75ee8",
   "metadata": {},
   "outputs": [
    {
     "data": {
      "text/plain": [
       "Linear(in_features=1, out_features=1, bias=True)"
      ]
     },
     "execution_count": 2,
     "metadata": {},
     "output_type": "execute_result"
    }
   ],
   "source": [
    "linear_model = nn.Linear(1, 1)\n",
    "linear_model"
   ]
  },
  {
   "cell_type": "code",
   "execution_count": 3,
   "id": "cb91faa0",
   "metadata": {},
   "outputs": [
    {
     "name": "stdout",
     "output_type": "stream",
     "text": [
      "torch.Size([3, 1])\n"
     ]
    },
    {
     "data": {
      "text/plain": [
       "tensor([[-0.7021],\n",
       "        [-0.9872],\n",
       "        [-1.2724]], grad_fn=<AddmmBackward>)"
      ]
     },
     "execution_count": 3,
     "metadata": {},
     "output_type": "execute_result"
    }
   ],
   "source": [
    "y = Tensor([1,2,3]).unsqueeze(1)\n",
    "print(y.shape)\n",
    "linear_model(y)"
   ]
  },
  {
   "cell_type": "markdown",
   "id": "fb7ebb53",
   "metadata": {},
   "source": [
    "# Building a training loop for a linear model\n",
    "\n",
    "## The motivation for this is to be aware that torch isn't just neural nets; it's general purpose backprop and autograd.\n",
    "\n",
    "## First we'll generate some data                                         "
   ]
  },
  {
   "cell_type": "code",
   "execution_count": 4,
   "id": "41937591",
   "metadata": {},
   "outputs": [],
   "source": [
    "n_samples = 50\n",
    "n_val = int(0.2 * n_samples)\n",
    "x = np.random.rand(n_samples)\n",
    "y = 3*x + 4 + (np.random.rand(n_samples) - 0.5) # y ~ 3x + 4 with uniform noise\n",
    "\n",
    "shuffledIndices = torch.randperm(n_samples)\n",
    "trainIndices = shuffledIndices[:-n_val]\n",
    "valIndices = shuffledIndices[-n_val:]\n",
    "\n",
    "x_train, y_train = x[trainIndices], y[trainIndices]\n",
    "x_val, y_val = x[valIndices], y[valIndices]\n",
    "data = [x_train, x_val, y_train, y_val] # collecting in a single var to unpack later.\n",
    "data = [torch.from_numpy(d).float().unsqueeze(1) for d in data] # put data into clean form for Torch"
   ]
  },
  {
   "cell_type": "markdown",
   "id": "a84f8494",
   "metadata": {},
   "source": [
    "## Next our training loop definiton"
   ]
  },
  {
   "cell_type": "code",
   "execution_count": 5,
   "id": "12d95de2",
   "metadata": {},
   "outputs": [],
   "source": [
    "def training_loop(n_epochs, optimizer, model, loss, x_train, x_val, y_train, y_val):\n",
    "    for epoch in range(1, n_epochs + 1):\n",
    "        pred_train = model(x_train)\n",
    "        loss_train = loss(pred_train, y_train)\n",
    "        \n",
    "        pred_val   = model(x_val)\n",
    "        loss_val   = loss(pred_val, y_val)\n",
    "        \n",
    "        optimizer.zero_grad() # zero out accumulated gradient\n",
    "        loss_train.backward() # backprop step\n",
    "        optimizer.step() # gradient descent\n",
    "        \n",
    "        if epoch == 1 or epoch % 500 == 0:\n",
    "            print(f\" Epoch: {epoch}, Training/Validation Losses {loss_train}/{loss_val}\")"
   ]
  },
  {
   "cell_type": "markdown",
   "id": "a967338d",
   "metadata": {},
   "source": [
    "## Model run"
   ]
  },
  {
   "cell_type": "code",
   "execution_count": 6,
   "id": "fbfb96c7",
   "metadata": {},
   "outputs": [
    {
     "name": "stdout",
     "output_type": "stream",
     "text": [
      " Epoch: 1, Training/Validation Losses 47.199974060058594/46.10014724731445\n",
      " Epoch: 500, Training/Validation Losses 0.08394346386194229/0.08150941133499146\n",
      " Epoch: 1000, Training/Validation Losses 0.06899469345808029/0.0903770700097084\n",
      " Epoch: 1500, Training/Validation Losses 0.06516867876052856/0.09828539192676544\n",
      " Epoch: 2000, Training/Validation Losses 0.06418942660093307/0.10316126048564911\n",
      " Epoch: 2500, Training/Validation Losses 0.06393881142139435/0.10585210472345352\n",
      " Epoch: 3000, Training/Validation Losses 0.06387465447187424/0.10727044194936752\n",
      "Parameter containing:\n",
      "tensor([[3.0965]], requires_grad=True)\n",
      "Parameter containing:\n",
      "tensor([3.8837], requires_grad=True)\n"
     ]
    }
   ],
   "source": [
    "linear_model = nn.Linear(1, 1) # should be sufficient for our linearly generated data\n",
    "optimizer = optim.SGD(linear_model.parameters(), lr=1e-2) # SGD optimizer\n",
    "\n",
    "training_loop(3000,\n",
    "              optimizer,\n",
    "              linear_model,\n",
    "              nn.MSELoss(),\n",
    "              *data\n",
    "             )\n",
    "\n",
    "print(linear_model.weight)\n",
    "print(linear_model.bias)"
   ]
  },
  {
   "cell_type": "markdown",
   "id": "a2114354",
   "metadata": {},
   "source": [
    "## Now we'll exchange the linear model above for a non-linear model (NN)"
   ]
  },
  {
   "cell_type": "code",
   "execution_count": 7,
   "id": "c588f2de",
   "metadata": {},
   "outputs": [
    {
     "data": {
      "text/plain": [
       "Sequential(\n",
       "  (Hidden Layer): Linear(in_features=1, out_features=13, bias=True)\n",
       "  (Hyperbolic Activation): Tanh()\n",
       "  (Output Layer): Linear(in_features=13, out_features=1, bias=True)\n",
       ")"
      ]
     },
     "execution_count": 7,
     "metadata": {},
     "output_type": "execute_result"
    }
   ],
   "source": [
    "from collections import OrderedDict\n",
    "\n",
    "def make_seq_model(hidden_shape):\n",
    "    return nn.Sequential(\n",
    "            OrderedDict({\n",
    "                \"Hidden Layer\": nn.Linear(1,hidden_shape),\n",
    "                \"Hyperbolic Activation\": nn.Tanh(),\n",
    "                \"Output Layer\": nn.Linear(hidden_shape,1)})\n",
    "    )\n",
    "seq_model = make_seq_model(13)\n",
    "seq_model"
   ]
  },
  {
   "cell_type": "markdown",
   "id": "358e4cd4",
   "metadata": {},
   "source": [
    "## Before plugging this into our training loop, let's inspect it more:"
   ]
  },
  {
   "cell_type": "code",
   "execution_count": 8,
   "id": "b0cf4b0e",
   "metadata": {},
   "outputs": [
    {
     "name": "stdout",
     "output_type": "stream",
     "text": [
      "Hidden Layer.weight torch.Size([13, 1])\n",
      "Hidden Layer.bias torch.Size([13])\n",
      "Output Layer.weight torch.Size([1, 13])\n",
      "Output Layer.bias torch.Size([1])\n"
     ]
    }
   ],
   "source": [
    "for name, param in seq_model.named_parameters():\n",
    "    print(name, param.shape)"
   ]
  },
  {
   "cell_type": "code",
   "execution_count": 9,
   "id": "6d3eaaa3",
   "metadata": {},
   "outputs": [
    {
     "name": "stdout",
     "output_type": "stream",
     "text": [
      " Epoch: 1, Training/Validation Losses 41.954551696777344/41.83061981201172\n",
      " Epoch: 500, Training/Validation Losses 0.5207550525665283/0.3204735815525055\n",
      " Epoch: 1000, Training/Validation Losses 0.37821248173713684/0.2288205623626709\n",
      " Epoch: 1500, Training/Validation Losses 0.27226579189300537/0.16643770039081573\n",
      " Epoch: 2000, Training/Validation Losses 0.19562450051307678/0.1265135407447815\n",
      " Epoch: 2500, Training/Validation Losses 0.1433933824300766/0.1043158769607544\n",
      " Epoch: 3000, Training/Validation Losses 0.1101730614900589/0.0947602242231369\n",
      " Epoch: 3500, Training/Validation Losses 0.0903828889131546/0.0929775983095169\n",
      " Epoch: 4000, Training/Validation Losses 0.07922680675983429/0.09514031559228897\n",
      " Epoch: 4500, Training/Validation Losses 0.07319621741771698/0.09875273704528809\n",
      " Epoch: 5000, Training/Validation Losses 0.07002326101064682/0.1024555191397667\n",
      "Estimated Outputs tensor([[4.6721],\n",
      "        [4.9915],\n",
      "        [6.0840],\n",
      "        [4.5122],\n",
      "        [5.5807],\n",
      "        [4.0634],\n",
      "        [5.1783],\n",
      "        [6.6492],\n",
      "        [6.0064],\n",
      "        [4.8376]], grad_fn=<AddmmBackward>)\n",
      "Ground Truth [4.83921962 5.07286173 6.2590137  4.51720968 5.90179221 4.54109351\n",
      " 5.48537975 7.08822504 5.62029788 5.27568374]\n"
     ]
    }
   ],
   "source": [
    "optimizer = optim.SGD(seq_model.parameters(), lr=1e-3)\n",
    "\n",
    "training_loop(\n",
    "    5000,\n",
    "    optimizer,\n",
    "    seq_model,\n",
    "    nn.MSELoss(),\n",
    "    *data)\n",
    "\n",
    "print(f\"Estimated Outputs {seq_model(torch.Tensor(x_val).unsqueeze(1))}\")\n",
    "print(f\"Ground Truth {y_val}\")"
   ]
  },
  {
   "cell_type": "markdown",
   "id": "f4daef53",
   "metadata": {},
   "source": [
    "## Let's visualize the neural network fit:"
   ]
  },
  {
   "cell_type": "code",
   "execution_count": 10,
   "id": "1bd14134",
   "metadata": {},
   "outputs": [
    {
     "data": {
      "text/plain": [
       "[<matplotlib.lines.Line2D at 0x7fcab0a3efa0>]"
      ]
     },
     "execution_count": 10,
     "metadata": {},
     "output_type": "execute_result"
    },
    {
     "data": {
      "image/png": "[encoded data removed]",
      "text/plain": [
       "<Figure size 432x288 with 1 Axes>"
      ]
     },
     "metadata": {
      "needs_background": "light"
     },
     "output_type": "display_data"
    }
   ],
   "source": [
    "from matplotlib import pyplot as plt\n",
    "\n",
    "x_range = torch.arange(0., 1., 0.01).unsqueeze(1)\n",
    "plt.scatter(x_val, y_val, s=20, c=\"orange\")\n",
    "plt.plot(x_range.numpy(), 3*x_range.numpy() + 4, c=\"red\")\n",
    "plt.plot(x_range.numpy(), seq_model(x_range).detach().numpy(), c=\"green\")"
   ]
  },
  {
   "cell_type": "markdown",
   "id": "827888e8",
   "metadata": {},
   "source": [
    "### As expected, the ANN appears to be overfitting the true signal. The most appropriate model would be an OLS linear regressor, but the above exploration helps paint what Torch is really capable of."
   ]
  },
  {
   "cell_type": "code",
   "execution_count": null,
   "id": "05502708",
   "metadata": {},
   "outputs": [],
   "source": []
  }
 ],
 "metadata": {
  "kernelspec": {
   "display_name": "Python 3",
   "language": "python",
   "name": "python3"
  },
  "language_info": {
   "codemirror_mode": {
    "name": "ipython",
    "version": 3
   },
   "file_extension": ".py",
   "mimetype": "text/x-python",
   "name": "python",
   "nbconvert_exporter": "python",
   "pygments_lexer": "ipython3",
   "version": "3.8.8"
  }
 },
 "nbformat": 4,
 "nbformat_minor": 5
}
