{
 "cells": [
  {
   "cell_type": "markdown",
   "id": "7e6a877e",
   "metadata": {},
   "source": [
    "# Building a Basic Image Classifier"
   ]
  },
  {
   "cell_type": "code",
   "execution_count": 1,
   "id": "06e5217e",
   "metadata": {},
   "outputs": [
    {
     "name": "stdout",
     "output_type": "stream",
     "text": [
      "Files already downloaded and verified\n",
      "Files already downloaded and verified\n"
     ]
    }
   ],
   "source": [
    "import torch\n",
    "from torchvision import datasets\n",
    "datapath = \"./data/cifar10/\"\n",
    "cifar10 = datasets.CIFAR10(datapath, train=True, download=True)\n",
    "cifar10_val = datasets.CIFAR10(datapath, train=False, download=True)"
   ]
  },
  {
   "cell_type": "markdown",
   "id": "9e95999f",
   "metadata": {},
   "source": [
    "## Examine what a Torch Dataset object consists of"
   ]
  },
  {
   "cell_type": "code",
   "execution_count": 2,
   "id": "aeb963eb",
   "metadata": {},
   "outputs": [
    {
     "data": {
      "text/plain": [
       "'root, transform, target_transform, transforms, train, data, targets, classes, class_to_idx, __module__, __doc__, base_folder, url, filename, tgz_md5, train_list, test_list, meta, __init__, _load_meta, __getitem__, __len__, _check_integrity, download, extra_repr, __parameters__, _repr_indent, __repr__, _format_transform_repr, __add__, __orig_bases__, __dict__, __weakref__, __slots__, _is_protocol, __new__, __class_getitem__, __init_subclass__, __hash__, __str__, __getattribute__, __setattr__, __delattr__, __lt__, __le__, __eq__, __ne__, __gt__, __ge__, __reduce_ex__, __reduce__, __subclasshook__, __format__, __sizeof__, __dir__, __class__'"
      ]
     },
     "execution_count": 2,
     "metadata": {},
     "output_type": "execute_result"
    }
   ],
   "source": [
    "', '.join([attr for attr in cifar10.__dir__()])"
   ]
  },
  {
   "cell_type": "code",
   "execution_count": 3,
   "id": "8955daf0",
   "metadata": {},
   "outputs": [
    {
     "data": {
      "text/plain": [
       "{'airplane': 0,\n",
       " 'automobile': 1,\n",
       " 'bird': 2,\n",
       " 'cat': 3,\n",
       " 'deer': 4,\n",
       " 'dog': 5,\n",
       " 'frog': 6,\n",
       " 'horse': 7,\n",
       " 'ship': 8,\n",
       " 'truck': 9}"
      ]
     },
     "execution_count": 3,
     "metadata": {},
     "output_type": "execute_result"
    }
   ],
   "source": [
    "cifar10.class_to_idx"
   ]
  },
  {
   "cell_type": "code",
   "execution_count": 4,
   "id": "1f9e2ff9",
   "metadata": {},
   "outputs": [
    {
     "data": {
      "text/plain": [
       "['frog',\n",
       " 'truck',\n",
       " 'truck',\n",
       " 'deer',\n",
       " 'automobile',\n",
       " 'automobile',\n",
       " 'bird',\n",
       " 'horse',\n",
       " 'ship',\n",
       " 'cat',\n",
       " 'deer',\n",
       " 'horse',\n",
       " 'horse',\n",
       " 'bird',\n",
       " 'truck',\n",
       " 'truck',\n",
       " 'truck',\n",
       " 'cat',\n",
       " 'bird',\n",
       " 'frog',\n",
       " 'deer',\n",
       " 'cat',\n",
       " 'frog',\n",
       " 'frog',\n",
       " 'bird',\n",
       " 'frog',\n",
       " 'cat',\n",
       " 'dog',\n",
       " 'deer',\n",
       " 'airplane',\n",
       " 'airplane',\n",
       " 'truck',\n",
       " 'automobile',\n",
       " 'cat',\n",
       " 'deer',\n",
       " 'airplane',\n",
       " 'cat',\n",
       " 'horse',\n",
       " 'cat',\n",
       " 'cat',\n",
       " 'dog',\n",
       " 'bird',\n",
       " 'bird',\n",
       " 'horse',\n",
       " 'automobile',\n",
       " 'automobile',\n",
       " 'automobile',\n",
       " 'bird',\n",
       " 'bird',\n",
       " 'airplane',\n",
       " 'truck',\n",
       " 'dog',\n",
       " 'horse',\n",
       " 'truck',\n",
       " 'bird',\n",
       " 'bird',\n",
       " 'dog',\n",
       " 'bird',\n",
       " 'deer',\n",
       " 'cat',\n",
       " 'automobile',\n",
       " 'automobile',\n",
       " 'ship',\n",
       " 'bird',\n",
       " 'automobile',\n",
       " 'automobile',\n",
       " 'deer',\n",
       " 'truck',\n",
       " 'horse',\n",
       " 'ship',\n",
       " 'dog',\n",
       " 'truck',\n",
       " 'frog',\n",
       " 'horse',\n",
       " 'cat',\n",
       " 'automobile',\n",
       " 'truck',\n",
       " 'airplane',\n",
       " 'cat',\n",
       " 'automobile',\n",
       " 'cat',\n",
       " 'dog',\n",
       " 'deer',\n",
       " 'dog',\n",
       " 'horse',\n",
       " 'horse',\n",
       " 'deer',\n",
       " 'horse',\n",
       " 'truck',\n",
       " 'deer',\n",
       " 'bird',\n",
       " 'cat',\n",
       " 'ship',\n",
       " 'airplane',\n",
       " 'automobile',\n",
       " 'frog',\n",
       " 'automobile',\n",
       " 'automobile',\n",
       " 'deer',\n",
       " 'automobile',\n",
       " 'ship',\n",
       " 'cat',\n",
       " 'truck',\n",
       " 'frog',\n",
       " 'frog',\n",
       " 'automobile',\n",
       " 'ship',\n",
       " 'dog',\n",
       " 'bird',\n",
       " 'truck',\n",
       " 'truck',\n",
       " 'ship',\n",
       " 'automobile',\n",
       " 'horse',\n",
       " 'horse',\n",
       " 'airplane',\n",
       " 'airplane',\n",
       " 'frog',\n",
       " 'truck',\n",
       " 'automobile',\n",
       " 'bird',\n",
       " 'bird',\n",
       " 'truck',\n",
       " 'bird',\n",
       " 'frog',\n",
       " 'frog',\n",
       " 'automobile',\n",
       " 'truck',\n",
       " 'dog',\n",
       " 'airplane',\n",
       " 'deer',\n",
       " 'horse',\n",
       " 'frog',\n",
       " 'horse',\n",
       " 'automobile',\n",
       " 'ship',\n",
       " 'automobile',\n",
       " 'automobile',\n",
       " 'bird',\n",
       " 'ship',\n",
       " 'automobile',\n",
       " 'cat',\n",
       " 'cat',\n",
       " 'frog',\n",
       " 'bird',\n",
       " 'deer',\n",
       " 'truck',\n",
       " 'truck',\n",
       " 'dog',\n",
       " 'deer',\n",
       " 'cat',\n",
       " 'frog',\n",
       " 'horse',\n",
       " 'deer',\n",
       " 'frog',\n",
       " 'ship',\n",
       " 'dog',\n",
       " 'dog',\n",
       " 'deer',\n",
       " 'cat',\n",
       " 'automobile',\n",
       " 'ship',\n",
       " 'deer',\n",
       " 'horse',\n",
       " 'frog',\n",
       " 'airplane',\n",
       " 'truck',\n",
       " 'dog',\n",
       " 'automobile',\n",
       " 'cat',\n",
       " 'ship',\n",
       " 'bird',\n",
       " 'horse',\n",
       " 'dog',\n",
       " 'cat',\n",
       " 'deer',\n",
       " 'automobile',\n",
       " 'dog',\n",
       " 'horse',\n",
       " 'airplane',\n",
       " 'deer',\n",
       " 'horse',\n",
       " 'dog',\n",
       " 'dog',\n",
       " 'automobile',\n",
       " 'airplane',\n",
       " 'truck',\n",
       " 'frog',\n",
       " 'truck',\n",
       " 'airplane',\n",
       " 'ship',\n",
       " 'horse',\n",
       " 'ship',\n",
       " 'ship',\n",
       " 'bird',\n",
       " 'dog',\n",
       " 'bird',\n",
       " 'cat',\n",
       " 'dog',\n",
       " 'airplane',\n",
       " 'frog',\n",
       " 'automobile',\n",
       " 'truck',\n",
       " 'cat',\n",
       " 'frog',\n",
       " 'truck',\n",
       " 'automobile',\n",
       " 'cat',\n",
       " 'truck',\n",
       " 'frog',\n",
       " 'frog',\n",
       " 'horse',\n",
       " 'automobile',\n",
       " 'airplane',\n",
       " 'truck',\n",
       " 'dog',\n",
       " 'ship',\n",
       " 'dog',\n",
       " 'bird',\n",
       " 'truck',\n",
       " 'airplane',\n",
       " 'ship',\n",
       " 'ship',\n",
       " 'airplane',\n",
       " 'frog',\n",
       " 'truck',\n",
       " 'automobile',\n",
       " 'automobile',\n",
       " 'frog',\n",
       " 'cat',\n",
       " 'horse',\n",
       " 'frog',\n",
       " 'frog',\n",
       " 'airplane',\n",
       " 'frog',\n",
       " 'frog',\n",
       " 'automobile',\n",
       " 'horse',\n",
       " 'automobile',\n",
       " 'dog',\n",
       " 'ship',\n",
       " 'cat',\n",
       " 'frog',\n",
       " 'frog',\n",
       " 'ship',\n",
       " 'frog',\n",
       " 'ship',\n",
       " 'deer',\n",
       " 'frog',\n",
       " 'frog',\n",
       " 'automobile',\n",
       " 'cat',\n",
       " 'ship',\n",
       " 'cat',\n",
       " 'deer',\n",
       " 'automobile',\n",
       " 'horse',\n",
       " 'automobile',\n",
       " 'cat',\n",
       " 'ship',\n",
       " 'dog',\n",
       " 'automobile',\n",
       " 'automobile',\n",
       " 'deer',\n",
       " 'airplane',\n",
       " 'truck',\n",
       " 'cat',\n",
       " 'horse',\n",
       " 'deer',\n",
       " 'truck',\n",
       " 'truck',\n",
       " 'bird',\n",
       " 'deer',\n",
       " 'truck',\n",
       " 'truck',\n",
       " 'automobile',\n",
       " 'airplane',\n",
       " 'dog',\n",
       " 'truck',\n",
       " 'airplane',\n",
       " 'ship',\n",
       " 'bird',\n",
       " 'automobile',\n",
       " 'bird',\n",
       " 'airplane',\n",
       " 'dog',\n",
       " 'frog',\n",
       " 'cat',\n",
       " 'bird',\n",
       " 'horse',\n",
       " 'ship',\n",
       " 'ship',\n",
       " 'frog',\n",
       " 'airplane',\n",
       " 'horse',\n",
       " 'truck',\n",
       " 'deer',\n",
       " 'dog',\n",
       " 'frog',\n",
       " 'deer',\n",
       " 'bird',\n",
       " 'automobile',\n",
       " 'automobile',\n",
       " 'bird',\n",
       " 'automobile',\n",
       " 'dog',\n",
       " 'truck',\n",
       " 'truck',\n",
       " 'airplane',\n",
       " 'ship',\n",
       " 'deer',\n",
       " 'automobile',\n",
       " 'automobile',\n",
       " 'frog',\n",
       " 'cat',\n",
       " 'cat',\n",
       " 'truck',\n",
       " 'airplane',\n",
       " 'horse',\n",
       " 'truck',\n",
       " 'horse',\n",
       " 'horse',\n",
       " 'truck',\n",
       " 'automobile',\n",
       " 'dog',\n",
       " 'automobile',\n",
       " 'frog',\n",
       " 'frog',\n",
       " 'ship',\n",
       " 'horse',\n",
       " 'automobile',\n",
       " 'cat',\n",
       " 'airplane',\n",
       " 'cat',\n",
       " 'cat',\n",
       " 'bird',\n",
       " 'deer',\n",
       " 'dog',\n",
       " 'horse',\n",
       " 'dog',\n",
       " 'truck',\n",
       " 'airplane',\n",
       " 'cat',\n",
       " 'deer',\n",
       " 'airplane',\n",
       " 'deer',\n",
       " 'deer',\n",
       " 'frog',\n",
       " 'airplane',\n",
       " 'airplane',\n",
       " 'frog',\n",
       " 'frog',\n",
       " 'airplane',\n",
       " 'ship',\n",
       " 'automobile',\n",
       " 'frog',\n",
       " 'bird',\n",
       " 'truck',\n",
       " 'bird',\n",
       " 'dog',\n",
       " 'truck',\n",
       " 'frog',\n",
       " 'horse',\n",
       " 'deer',\n",
       " 'automobile',\n",
       " 'ship',\n",
       " 'horse',\n",
       " 'cat',\n",
       " 'frog',\n",
       " 'truck',\n",
       " 'cat',\n",
       " 'airplane',\n",
       " 'deer',\n",
       " 'airplane',\n",
       " 'dog',\n",
       " 'automobile',\n",
       " 'airplane',\n",
       " 'cat',\n",
       " 'deer',\n",
       " 'ship',\n",
       " 'dog',\n",
       " 'deer',\n",
       " 'horse',\n",
       " 'bird',\n",
       " 'cat',\n",
       " 'truck',\n",
       " 'horse',\n",
       " 'frog',\n",
       " 'horse',\n",
       " 'automobile',\n",
       " 'deer',\n",
       " 'horse',\n",
       " 'airplane',\n",
       " 'automobile',\n",
       " 'horse',\n",
       " 'cat',\n",
       " 'automobile',\n",
       " 'ship',\n",
       " 'deer',\n",
       " 'deer',\n",
       " 'bird',\n",
       " 'airplane',\n",
       " 'bird',\n",
       " 'bird',\n",
       " 'airplane',\n",
       " 'airplane',\n",
       " 'truck',\n",
       " 'airplane',\n",
       " 'truck',\n",
       " 'frog',\n",
       " 'ship',\n",
       " 'bird',\n",
       " 'horse',\n",
       " 'horse',\n",
       " 'deer',\n",
       " 'airplane',\n",
       " 'cat',\n",
       " 'airplane',\n",
       " 'ship',\n",
       " 'truck',\n",
       " 'deer',\n",
       " 'bird',\n",
       " 'horse',\n",
       " 'bird',\n",
       " 'dog',\n",
       " 'bird',\n",
       " 'dog',\n",
       " 'automobile',\n",
       " 'truck',\n",
       " 'deer',\n",
       " 'ship',\n",
       " 'dog',\n",
       " 'automobile',\n",
       " 'horse',\n",
       " 'deer',\n",
       " 'deer',\n",
       " 'airplane',\n",
       " 'frog',\n",
       " 'truck',\n",
       " 'airplane',\n",
       " 'horse',\n",
       " 'ship',\n",
       " 'ship',\n",
       " 'truck',\n",
       " 'truck',\n",
       " 'cat',\n",
       " 'cat',\n",
       " 'deer',\n",
       " 'airplane',\n",
       " 'deer',\n",
       " 'dog',\n",
       " 'frog',\n",
       " 'frog',\n",
       " 'airplane',\n",
       " 'automobile',\n",
       " 'airplane',\n",
       " 'ship',\n",
       " 'airplane',\n",
       " 'deer',\n",
       " 'ship',\n",
       " 'ship',\n",
       " 'automobile',\n",
       " 'dog',\n",
       " 'bird',\n",
       " 'frog',\n",
       " 'ship',\n",
       " 'automobile',\n",
       " 'airplane',\n",
       " 'airplane',\n",
       " 'horse',\n",
       " 'horse',\n",
       " 'dog',\n",
       " 'truck',\n",
       " 'frog',\n",
       " 'bird',\n",
       " 'ship',\n",
       " 'cat',\n",
       " 'deer',\n",
       " 'horse',\n",
       " 'cat',\n",
       " 'truck',\n",
       " 'airplane',\n",
       " 'automobile',\n",
       " 'bird',\n",
       " 'deer',\n",
       " 'ship',\n",
       " 'automobile',\n",
       " 'ship',\n",
       " 'frog',\n",
       " 'deer',\n",
       " 'deer',\n",
       " 'dog',\n",
       " 'horse',\n",
       " 'automobile',\n",
       " 'cat',\n",
       " 'truck',\n",
       " 'ship',\n",
       " 'airplane',\n",
       " 'automobile',\n",
       " 'horse',\n",
       " 'dog',\n",
       " 'ship',\n",
       " 'bird',\n",
       " 'ship',\n",
       " 'airplane',\n",
       " 'deer',\n",
       " 'automobile',\n",
       " 'ship',\n",
       " 'truck',\n",
       " 'ship',\n",
       " 'bird',\n",
       " 'truck',\n",
       " 'truck',\n",
       " 'bird',\n",
       " 'horse',\n",
       " 'dog',\n",
       " 'horse',\n",
       " 'cat',\n",
       " 'ship',\n",
       " 'ship',\n",
       " 'deer',\n",
       " 'deer',\n",
       " 'bird',\n",
       " 'horse',\n",
       " 'automobile',\n",
       " 'frog',\n",
       " 'deer',\n",
       " 'airplane',\n",
       " 'deer',\n",
       " 'frog',\n",
       " 'truck',\n",
       " 'horse',\n",
       " 'frog',\n",
       " 'bird',\n",
       " 'dog',\n",
       " 'dog',\n",
       " 'automobile',\n",
       " 'horse',\n",
       " 'bird',\n",
       " 'bird',\n",
       " 'bird',\n",
       " 'truck',\n",
       " 'dog',\n",
       " 'deer',\n",
       " 'bird',\n",
       " 'horse',\n",
       " 'ship',\n",
       " 'automobile',\n",
       " 'cat',\n",
       " 'deer',\n",
       " 'cat',\n",
       " 'horse',\n",
       " 'frog',\n",
       " 'truck',\n",
       " 'ship',\n",
       " 'airplane',\n",
       " 'frog',\n",
       " 'airplane',\n",
       " 'bird',\n",
       " 'bird',\n",
       " 'bird',\n",
       " 'automobile',\n",
       " 'ship',\n",
       " 'deer',\n",
       " 'airplane',\n",
       " 'automobile',\n",
       " 'ship',\n",
       " 'ship',\n",
       " 'automobile',\n",
       " 'dog',\n",
       " 'horse',\n",
       " 'frog',\n",
       " 'deer',\n",
       " 'dog',\n",
       " 'ship',\n",
       " 'horse',\n",
       " 'automobile',\n",
       " 'truck',\n",
       " 'automobile',\n",
       " 'truck',\n",
       " 'ship',\n",
       " 'deer',\n",
       " 'horse',\n",
       " 'cat',\n",
       " 'ship',\n",
       " 'ship',\n",
       " 'bird',\n",
       " 'frog',\n",
       " 'frog',\n",
       " 'horse',\n",
       " 'automobile',\n",
       " 'frog',\n",
       " 'ship',\n",
       " 'automobile',\n",
       " 'truck',\n",
       " 'horse',\n",
       " 'ship',\n",
       " 'cat',\n",
       " 'airplane',\n",
       " 'automobile',\n",
       " 'airplane',\n",
       " 'ship',\n",
       " 'ship',\n",
       " 'cat',\n",
       " 'airplane',\n",
       " 'airplane',\n",
       " 'automobile',\n",
       " 'dog',\n",
       " 'airplane',\n",
       " 'ship',\n",
       " 'ship',\n",
       " 'horse',\n",
       " 'truck',\n",
       " 'truck',\n",
       " 'airplane',\n",
       " 'truck',\n",
       " 'deer',\n",
       " 'automobile',\n",
       " 'cat',\n",
       " 'frog',\n",
       " 'frog',\n",
       " 'deer',\n",
       " 'deer',\n",
       " 'horse',\n",
       " 'dog',\n",
       " 'frog',\n",
       " 'airplane',\n",
       " 'ship',\n",
       " 'airplane',\n",
       " 'cat',\n",
       " 'bird',\n",
       " 'ship',\n",
       " 'deer',\n",
       " 'frog',\n",
       " 'truck',\n",
       " 'truck',\n",
       " 'horse',\n",
       " 'airplane',\n",
       " 'cat',\n",
       " 'cat',\n",
       " 'frog',\n",
       " 'horse',\n",
       " 'deer',\n",
       " 'truck',\n",
       " 'automobile',\n",
       " 'frog',\n",
       " 'bird',\n",
       " 'horse',\n",
       " 'bird',\n",
       " 'bird',\n",
       " 'airplane',\n",
       " 'frog',\n",
       " 'horse',\n",
       " 'dog',\n",
       " 'horse',\n",
       " 'frog',\n",
       " 'ship',\n",
       " 'truck',\n",
       " 'airplane',\n",
       " 'truck',\n",
       " 'deer',\n",
       " 'deer',\n",
       " 'horse',\n",
       " 'airplane',\n",
       " 'truck',\n",
       " 'deer',\n",
       " 'truck',\n",
       " 'frog',\n",
       " 'truck',\n",
       " 'deer',\n",
       " 'dog',\n",
       " 'horse',\n",
       " 'truck',\n",
       " 'bird',\n",
       " 'deer',\n",
       " 'dog',\n",
       " 'automobile',\n",
       " 'deer',\n",
       " 'cat',\n",
       " 'truck',\n",
       " 'frog',\n",
       " 'dog',\n",
       " 'frog',\n",
       " 'truck',\n",
       " 'cat',\n",
       " 'cat',\n",
       " 'dog',\n",
       " 'airplane',\n",
       " 'horse',\n",
       " 'bird',\n",
       " 'automobile',\n",
       " 'cat',\n",
       " 'frog',\n",
       " 'deer',\n",
       " 'airplane',\n",
       " 'airplane',\n",
       " 'bird',\n",
       " 'dog',\n",
       " 'airplane',\n",
       " 'automobile',\n",
       " 'airplane',\n",
       " 'bird',\n",
       " 'cat',\n",
       " 'truck',\n",
       " 'ship',\n",
       " 'deer',\n",
       " 'truck',\n",
       " 'ship',\n",
       " 'airplane',\n",
       " 'bird',\n",
       " 'frog',\n",
       " 'deer',\n",
       " 'deer',\n",
       " 'airplane',\n",
       " 'automobile',\n",
       " 'ship',\n",
       " 'ship',\n",
       " 'cat',\n",
       " 'frog',\n",
       " 'truck',\n",
       " 'frog',\n",
       " 'frog',\n",
       " 'horse',\n",
       " 'ship',\n",
       " 'bird',\n",
       " 'deer',\n",
       " 'dog',\n",
       " 'horse',\n",
       " 'frog',\n",
       " 'dog',\n",
       " 'cat',\n",
       " 'airplane',\n",
       " 'dog',\n",
       " 'airplane',\n",
       " 'dog',\n",
       " 'airplane',\n",
       " 'ship',\n",
       " 'bird',\n",
       " 'frog',\n",
       " 'horse',\n",
       " 'cat',\n",
       " 'ship',\n",
       " 'bird',\n",
       " 'automobile',\n",
       " 'horse',\n",
       " 'frog',\n",
       " 'horse',\n",
       " 'automobile',\n",
       " 'airplane',\n",
       " 'truck',\n",
       " 'dog',\n",
       " 'dog',\n",
       " 'airplane',\n",
       " 'automobile',\n",
       " 'horse',\n",
       " 'frog',\n",
       " 'truck',\n",
       " 'airplane',\n",
       " 'deer',\n",
       " 'horse',\n",
       " 'horse',\n",
       " 'automobile',\n",
       " 'dog',\n",
       " 'truck',\n",
       " 'deer',\n",
       " 'airplane',\n",
       " 'ship',\n",
       " 'dog',\n",
       " 'truck',\n",
       " 'truck',\n",
       " 'frog',\n",
       " 'horse',\n",
       " 'automobile',\n",
       " 'ship',\n",
       " 'cat',\n",
       " 'bird',\n",
       " 'cat',\n",
       " 'ship',\n",
       " 'bird',\n",
       " 'bird',\n",
       " 'deer',\n",
       " 'frog',\n",
       " 'airplane',\n",
       " 'airplane',\n",
       " 'dog',\n",
       " 'cat',\n",
       " 'ship',\n",
       " 'bird',\n",
       " 'cat',\n",
       " 'horse',\n",
       " 'bird',\n",
       " 'truck',\n",
       " 'cat',\n",
       " 'ship',\n",
       " 'horse',\n",
       " 'ship',\n",
       " 'bird',\n",
       " 'horse',\n",
       " 'truck',\n",
       " 'airplane',\n",
       " 'bird',\n",
       " 'cat',\n",
       " 'bird',\n",
       " 'bird',\n",
       " 'bird',\n",
       " 'cat',\n",
       " 'cat',\n",
       " 'frog',\n",
       " 'bird',\n",
       " 'cat',\n",
       " 'bird',\n",
       " 'ship',\n",
       " 'airplane',\n",
       " 'dog',\n",
       " 'dog',\n",
       " 'automobile',\n",
       " 'deer',\n",
       " 'dog',\n",
       " 'frog',\n",
       " 'frog',\n",
       " 'bird',\n",
       " 'horse',\n",
       " 'airplane',\n",
       " 'automobile',\n",
       " 'horse',\n",
       " 'horse',\n",
       " 'ship',\n",
       " 'bird',\n",
       " 'truck',\n",
       " 'bird',\n",
       " 'bird',\n",
       " 'deer',\n",
       " 'bird',\n",
       " 'automobile',\n",
       " 'automobile',\n",
       " 'automobile',\n",
       " 'frog',\n",
       " 'frog',\n",
       " 'frog',\n",
       " 'dog',\n",
       " 'automobile',\n",
       " 'automobile',\n",
       " 'horse',\n",
       " 'airplane',\n",
       " 'deer',\n",
       " 'cat',\n",
       " 'cat',\n",
       " 'horse',\n",
       " 'automobile',\n",
       " 'bird',\n",
       " 'cat',\n",
       " 'dog',\n",
       " 'dog',\n",
       " 'dog',\n",
       " 'frog',\n",
       " 'automobile',\n",
       " 'deer',\n",
       " 'cat',\n",
       " 'horse',\n",
       " 'ship',\n",
       " 'ship',\n",
       " 'cat',\n",
       " 'frog',\n",
       " 'frog',\n",
       " 'bird',\n",
       " 'cat',\n",
       " 'airplane',\n",
       " 'truck',\n",
       " 'deer',\n",
       " 'cat',\n",
       " 'ship',\n",
       " 'airplane',\n",
       " 'airplane',\n",
       " 'automobile',\n",
       " 'automobile',\n",
       " 'dog',\n",
       " 'deer',\n",
       " 'truck',\n",
       " 'cat',\n",
       " 'automobile',\n",
       " 'ship',\n",
       " 'truck',\n",
       " 'cat',\n",
       " 'truck',\n",
       " 'truck',\n",
       " 'bird',\n",
       " 'truck',\n",
       " 'deer',\n",
       " 'ship',\n",
       " 'bird',\n",
       " 'truck',\n",
       " 'ship',\n",
       " 'ship',\n",
       " 'automobile',\n",
       " 'dog',\n",
       " 'cat',\n",
       " 'frog',\n",
       " 'ship',\n",
       " 'horse',\n",
       " 'frog',\n",
       " 'truck',\n",
       " 'ship',\n",
       " 'airplane',\n",
       " 'frog',\n",
       " 'deer',\n",
       " 'airplane',\n",
       " 'airplane',\n",
       " 'bird',\n",
       " 'dog',\n",
       " 'ship',\n",
       " 'bird',\n",
       " 'airplane',\n",
       " 'bird',\n",
       " 'horse',\n",
       " 'frog',\n",
       " 'truck',\n",
       " 'horse',\n",
       " 'automobile',\n",
       " 'dog',\n",
       " 'dog',\n",
       " 'frog',\n",
       " 'frog',\n",
       " 'cat',\n",
       " 'frog',\n",
       " 'bird',\n",
       " 'deer',\n",
       " 'horse',\n",
       " 'airplane',\n",
       " 'dog',\n",
       " 'frog',\n",
       " 'deer',\n",
       " 'frog',\n",
       " 'dog',\n",
       " 'bird',\n",
       " 'deer',\n",
       " 'frog',\n",
       " 'automobile',\n",
       " 'frog',\n",
       " 'airplane',\n",
       " 'deer',\n",
       " 'airplane',\n",
       " 'cat',\n",
       " 'automobile',\n",
       " 'ship',\n",
       " 'dog',\n",
       " 'deer',\n",
       " 'deer',\n",
       " 'automobile',\n",
       " 'horse',\n",
       " 'cat',\n",
       " 'truck',\n",
       " 'deer',\n",
       " 'horse',\n",
       " 'truck',\n",
       " 'horse',\n",
       " 'cat',\n",
       " 'horse',\n",
       " 'bird',\n",
       " 'ship',\n",
       " 'deer',\n",
       " 'frog',\n",
       " 'frog',\n",
       " 'automobile',\n",
       " 'bird',\n",
       " 'truck',\n",
       " 'airplane',\n",
       " 'deer',\n",
       " 'ship',\n",
       " 'horse',\n",
       " 'cat',\n",
       " 'truck',\n",
       " 'ship',\n",
       " 'horse',\n",
       " 'horse',\n",
       " 'airplane',\n",
       " 'bird',\n",
       " 'deer',\n",
       " 'automobile',\n",
       " 'automobile',\n",
       " 'deer',\n",
       " 'automobile',\n",
       " 'dog',\n",
       " 'deer',\n",
       " 'airplane',\n",
       " 'dog',\n",
       " 'frog',\n",
       " 'bird',\n",
       " 'ship',\n",
       " 'dog',\n",
       " 'airplane',\n",
       " 'bird',\n",
       " 'automobile',\n",
       " 'cat',\n",
       " 'dog',\n",
       " 'horse',\n",
       " 'cat',\n",
       " 'dog',\n",
       " 'automobile',\n",
       " 'cat',\n",
       " 'dog',\n",
       " ...]"
      ]
     },
     "execution_count": 4,
     "metadata": {},
     "output_type": "execute_result"
    }
   ],
   "source": [
    "idx_to_class = {cifar10.class_to_idx[idx]: idx for idx in cifar10.class_to_idx}\n",
    "[idx_to_class[target] for target in cifar10.targets]"
   ]
  },
  {
   "cell_type": "markdown",
   "id": "a8d148ed",
   "metadata": {},
   "source": [
    "## Display one of the images for sanity check"
   ]
  },
  {
   "cell_type": "code",
   "execution_count": 5,
   "id": "b8633b0f",
   "metadata": {},
   "outputs": [
    {
     "name": "stdout",
     "output_type": "stream",
     "text": [
      "1: automobile\n"
     ]
    },
    {
     "data": {
      "image/png": "[encoded data removed]",
      "text/plain": [
       "<Figure size 432x288 with 1 Axes>"
      ]
     },
     "metadata": {
      "needs_background": "light"
     },
     "output_type": "display_data"
    }
   ],
   "source": [
    "import matplotlib.pyplot as plt\n",
    "\n",
    "img, label = cifar10[99]\n",
    "plt.imshow(img)\n",
    "print(f\"{label}: {idx_to_class[label]}\")"
   ]
  },
  {
   "cell_type": "markdown",
   "id": "de253543",
   "metadata": {},
   "source": [
    "## But for image classification, we need a tensor represenation (C x H x W layout) of the image data. We'll apply a transform across the whole dataset for this."
   ]
  },
  {
   "cell_type": "code",
   "execution_count": 6,
   "id": "1aa139d7",
   "metadata": {},
   "outputs": [
    {
     "name": "stdout",
     "output_type": "stream",
     "text": [
      "Files already downloaded and verified\n"
     ]
    },
    {
     "data": {
      "text/plain": [
       "torch.Size([3, 32, 32])"
      ]
     },
     "execution_count": 6,
     "metadata": {},
     "output_type": "execute_result"
    }
   ],
   "source": [
    "from torchvision import transforms\n",
    "\n",
    "to_tensor = transforms.ToTensor()\n",
    "tensor_cifar10 = datasets.CIFAR10(datapath, train=True, download=True, transform = to_tensor)\n",
    "img_tensor, label = tensor_cifar10[99]\n",
    "img_tensor.shape"
   ]
  },
  {
   "cell_type": "markdown",
   "id": "ad042818",
   "metadata": {},
   "source": [
    "## It's also important that our NN inputs are scaled to [0, 1]; transforms.ToTensor() should've already taken care of this, but let's verify."
   ]
  },
  {
   "cell_type": "code",
   "execution_count": 7,
   "id": "552a37b1",
   "metadata": {},
   "outputs": [
    {
     "data": {
      "text/plain": [
       "(tensor(0.), tensor(1.))"
      ]
     },
     "execution_count": 7,
     "metadata": {},
     "output_type": "execute_result"
    }
   ],
   "source": [
    "img_tensor.min(), img_tensor.max()"
   ]
  },
  {
   "cell_type": "markdown",
   "id": "851f8662",
   "metadata": {},
   "source": [
    "## For the sake of practice, let's standardize instead of normalize our data. This is a little confusing, as Torch's Normalize function is actually for standardizing, but the terminology is a little loose across disciplines."
   ]
  },
  {
   "cell_type": "code",
   "execution_count": 8,
   "id": "735aeaae",
   "metadata": {},
   "outputs": [
    {
     "data": {
      "text/plain": [
       "torch.Size([3, 32, 32, 50000])"
      ]
     },
     "execution_count": 8,
     "metadata": {},
     "output_type": "execute_result"
    }
   ],
   "source": [
    "all_imgs = torch.stack([img_tensor for img_tensor, _ in tensor_cifar10], dim=3)\n",
    "all_imgs.shape"
   ]
  },
  {
   "cell_type": "code",
   "execution_count": 9,
   "id": "105814b4",
   "metadata": {},
   "outputs": [
    {
     "data": {
      "text/plain": [
       "(tensor([0.4914, 0.4822, 0.4465]), tensor([0.2470, 0.2435, 0.2616]))"
      ]
     },
     "execution_count": 9,
     "metadata": {},
     "output_type": "execute_result"
    }
   ],
   "source": [
    "# Compute the mean, std for each different RGB channel.\n",
    "mean = all_imgs.view(3, -1).mean(dim=1)\n",
    "std = all_imgs.view(3, -1).std(dim=1)\n",
    "mean, std"
   ]
  },
  {
   "cell_type": "code",
   "execution_count": 10,
   "id": "c1236629",
   "metadata": {},
   "outputs": [
    {
     "name": "stdout",
     "output_type": "stream",
     "text": [
      "Files already downloaded and verified\n"
     ]
    }
   ],
   "source": [
    "transform_pipeline = transforms.Compose([\n",
    "    to_tensor,\n",
    "    transforms.Normalize(mean, std)\n",
    "])\n",
    "\n",
    "transformed_cifar10 = datasets.CIFAR10(datapath, train=True, download=True, transform = transform_pipeline)"
   ]
  },
  {
   "cell_type": "markdown",
   "id": "ad2b038f",
   "metadata": {},
   "source": [
    "## But what has this transformation _actually_ done to our image represenation?"
   ]
  },
  {
   "cell_type": "code",
   "execution_count": 11,
   "id": "0a67b6b6",
   "metadata": {},
   "outputs": [
    {
     "name": "stderr",
     "output_type": "stream",
     "text": [
      "Clipping input data to the valid range for imshow with RGB data ([0..1] for floats or [0..255] for integers).\n"
     ]
    },
    {
     "data": {
      "text/plain": [
       "<matplotlib.image.AxesImage at 0x7f1da61a3ee0>"
      ]
     },
     "execution_count": 11,
     "metadata": {},
     "output_type": "execute_result"
    },
    {
     "data": {
      "image/png": "[encoded data removed]",
      "text/plain": [
       "<Figure size 432x288 with 1 Axes>"
      ]
     },
     "metadata": {
      "needs_background": "light"
     },
     "output_type": "display_data"
    }
   ],
   "source": [
    "img_t, _ = transformed_cifar10[99]\n",
    "plt.imshow(img_t.permute(1, 2, 0))"
   ]
  },
  {
   "cell_type": "markdown",
   "id": "aa79cb21",
   "metadata": {},
   "source": [
    "#### Since we standardized instead of normalized to [0, 1], RGB data falling outside the range of [0, 1] gets clipped by matplotlib, hence the black portions in the image. All of our data still exists within the tensor, however."
   ]
  },
  {
   "cell_type": "markdown",
   "id": "42e175ff",
   "metadata": {},
   "source": [
    "## Next, let's build a binary classifier that can distinguish birds from planes. These are two of the existing labels in CIFAR10."
   ]
  },
  {
   "cell_type": "code",
   "execution_count": 12,
   "id": "1cd3a099",
   "metadata": {},
   "outputs": [],
   "source": [
    "label_map = {0: 0, 2: 1} # convert CIFAR10 labels for our own purposes.\n",
    "class_names = [idx_to_class[label] for label in label_map.keys()]\n",
    "cifar2 = [(img, label_map[label])\n",
    "          for img, label in cifar10\n",
    "          if label in [0, 2]]\n",
    "cifar2_val = [(img, label_map[label])\n",
    "              for img, label in cifar10_val\n",
    "              if label in [0, 2]]"
   ]
  },
  {
   "cell_type": "markdown",
   "id": "ae2097a3",
   "metadata": {},
   "source": [
    "#### Note that the above is a bit of a hack; cifar2 is a simple list of tuples, whereas cifar10 is a torch Dataset class. In a production setting, it's probably worth subclassing Dataset for better Torch integration."
   ]
  },
  {
   "cell_type": "markdown",
   "id": "36e6242f",
   "metadata": {},
   "source": [
    "## On to a naive deep model. We'll start out with the (somewhat silly) assumption that each pixel is unrelated; i.e., no convolutions. Each pixel will be its own feature vector."
   ]
  },
  {
   "cell_type": "code",
   "execution_count": 13,
   "id": "77eeae82",
   "metadata": {},
   "outputs": [
    {
     "data": {
      "text/plain": [
       "Sequential(\n",
       "  (0): Linear(in_features=3072, out_features=512, bias=True)\n",
       "  (1): Tanh()\n",
       "  (2): Linear(in_features=512, out_features=2, bias=True)\n",
       "  (3): Softmax(dim=1)\n",
       ")"
      ]
     },
     "execution_count": 13,
     "metadata": {},
     "output_type": "execute_result"
    }
   ],
   "source": [
    "import torch.nn as nn\n",
    "\n",
    "input_dim = img_t.reshape(-1, 1).shape[0]\n",
    "output_dim = len(label_map)\n",
    "\n",
    "hidden_dim = 512\n",
    "\n",
    "model = nn.Sequential(\n",
    "    nn.Linear(input_dim, hidden_dim),\n",
    "    nn.Tanh(),\n",
    "    nn.Linear(hidden_dim, output_dim),\n",
    "    nn.Softmax(dim=1))\n",
    "model"
   ]
  },
  {
   "cell_type": "markdown",
   "id": "34e6d6c7",
   "metadata": {},
   "source": [
    "### Let's try running the model before any training, just to see what happens. First, let's take an image from our dataset:"
   ]
  },
  {
   "cell_type": "code",
   "execution_count": 14,
   "id": "3bf01034",
   "metadata": {},
   "outputs": [
    {
     "data": {
      "image/png": "[encoded data removed]",
      "text/plain": [
       "<Figure size 432x288 with 1 Axes>"
      ]
     },
     "metadata": {
      "needs_background": "light"
     },
     "output_type": "display_data"
    }
   ],
   "source": [
    "img, _ = cifar2[0]\n",
    "plt.imshow(img)\n",
    "plt.show()"
   ]
  },
  {
   "cell_type": "code",
   "execution_count": 15,
   "id": "b3e26592",
   "metadata": {},
   "outputs": [
    {
     "name": "stdout",
     "output_type": "stream",
     "text": [
      "Before reshape: torch.Size([3, 32, 32])\n",
      "After reshape: torch.Size([1, 3072])\n"
     ]
    }
   ],
   "source": [
    "dummy_img_test = transform_pipeline(img)\n",
    "print(f\"Before reshape: {dummy_img_test.shape}\")\n",
    "img_test = dummy_img_test.reshape(1, -1)\n",
    "print(f\"After reshape: {img_test.shape}\")"
   ]
  },
  {
   "cell_type": "code",
   "execution_count": 16,
   "id": "6ac2a09c",
   "metadata": {},
   "outputs": [
    {
     "data": {
      "text/plain": [
       "tensor([[0.4895, 0.5105]], grad_fn=<SoftmaxBackward>)"
      ]
     },
     "execution_count": 16,
     "metadata": {},
     "output_type": "execute_result"
    }
   ],
   "source": [
    "untrained_output = model(img_test)\n",
    "untrained_output"
   ]
  },
  {
   "cell_type": "markdown",
   "id": "cac29ca9",
   "metadata": {},
   "source": [
    "## The above is quite meaningless. Two probabilities (in the sense that the values sum to 1 and are non-negative) that don't correspond to classes. Next step is to actually train the model.\n",
    "\n",
    "## First, let's glance at how our negative-log-likelihood gets computed."
   ]
  },
  {
   "cell_type": "code",
   "execution_count": 17,
   "id": "5ce5ad76",
   "metadata": {},
   "outputs": [
    {
     "data": {
      "text/plain": [
       "tensor(0.9713, grad_fn=<NllLossBackward>)"
      ]
     },
     "execution_count": 17,
     "metadata": {},
     "output_type": "execute_result"
    }
   ],
   "source": [
    "loss = nn.NLLLoss()\n",
    "\n",
    "model = nn.Sequential(\n",
    "    nn.Linear(input_dim, hidden_dim),\n",
    "    nn.Tanh(),\n",
    "    nn.Linear(hidden_dim, output_dim),\n",
    "    nn.LogSoftmax(dim=1))\n",
    "\n",
    "img, label = cifar2[0]\n",
    "output = model(transform_pipeline(img).reshape(1, -1))\n",
    "loss(output, torch.tensor([label]))"
   ]
  },
  {
   "cell_type": "markdown",
   "id": "f1ddf144",
   "metadata": {},
   "source": [
    "## Now on to the training (finally):"
   ]
  },
  {
   "cell_type": "code",
   "execution_count": 18,
   "id": "8c0eab2a",
   "metadata": {},
   "outputs": [
    {
     "name": "stdout",
     "output_type": "stream",
     "text": [
      "Files already downloaded and verified\n",
      "Files already downloaded and verified\n"
     ]
    }
   ],
   "source": [
    "transformed_cifar10 = datasets.CIFAR10(datapath, train=True, download=True, transform = transform_pipeline)\n",
    "transformed_cifar10_val = datasets.CIFAR10(datapath, train=False, download=True, transform = transform_pipeline)\n",
    "\n",
    "cifar2 = [(img, label_map[label])\n",
    "          for img, label in transformed_cifar10\n",
    "          if label in [0, 2]]\n",
    "cifar2_val = [(img, label_map[label])\n",
    "              for img, label in transformed_cifar10_val\n",
    "              if label in [0, 2]]"
   ]
  },
  {
   "cell_type": "code",
   "execution_count": 19,
   "id": "17a68151",
   "metadata": {},
   "outputs": [
    {
     "name": "stdout",
     "output_type": "stream",
     "text": [
      "Epoch 9. Loss 0.5566878914833069\n",
      "Epoch 19. Loss 0.18045447766780853\n",
      "Epoch 29. Loss 0.11467021703720093\n",
      "Epoch 39. Loss 0.05060455948114395\n",
      "Epoch 49. Loss 0.07783043384552002\n",
      "Epoch 59. Loss 0.12021815031766891\n",
      "Epoch 69. Loss 0.06101994961500168\n",
      "Epoch 79. Loss 0.03293102979660034\n",
      "Epoch 89. Loss 0.018272290006279945\n",
      "Epoch 99. Loss 0.016706256195902824\n"
     ]
    }
   ],
   "source": [
    "train_loader = torch.utils.data.DataLoader(\n",
    "    cifar2, batch_size=64, shuffle=True)\n",
    "val_loader = torch.utils.data.DataLoader(\n",
    "    cifar2_val, batch_size=64, shuffle=True)\n",
    "\n",
    "lr = 1e-2\n",
    "optimizer = torch.optim.SGD(model.parameters(), lr=lr)\n",
    "loss_fn = nn.NLLLoss()\n",
    "n_epochs = 100\n",
    "\n",
    "\n",
    "def train_model(model, loss_fn, optimizer, n_epochs):\n",
    "    for epoch in range(n_epochs):\n",
    "        for imgs, labels in train_loader:\n",
    "            batch_size = imgs.shape[0]\n",
    "            outputs = model(imgs.reshape(batch_size, -1))\n",
    "            loss = loss_fn(outputs, labels)\n",
    "\n",
    "            optimizer.zero_grad()\n",
    "            loss.backward()\n",
    "            optimizer.step()\n",
    "        if (epoch + 1) % 10 == 0:\n",
    "            print(f\"Epoch {epoch}. Loss {loss}\")\n",
    "train_model(model, loss_fn, optimizer, n_epochs)"
   ]
  },
  {
   "cell_type": "code",
   "execution_count": 20,
   "id": "2beb0810",
   "metadata": {},
   "outputs": [
    {
     "name": "stdout",
     "output_type": "stream",
     "text": [
      "Accuracy: 0.8245\n"
     ]
    }
   ],
   "source": [
    "val_loader = torch.utils.data.DataLoader(\n",
    "    cifar2_val, batch_size=64, shuffle=True)\n",
    "\n",
    "correct = 0\n",
    "total = 0\n",
    "with torch.no_grad():\n",
    "    for imgs, labels in val_loader:\n",
    "        batch_size = imgs.shape[0]\n",
    "        outputs = model(imgs.reshape(batch_size, -1))\n",
    "        _, predicted = torch.max(outputs, dim=1)\n",
    "        total += labels.shape[0]\n",
    "        correct += int((predicted == labels).sum())\n",
    "print(f\"Accuracy: {float(correct/total)}\")"
   ]
  },
  {
   "cell_type": "markdown",
   "id": "887e97fe",
   "metadata": {},
   "source": [
    "## The above is not wildly impressive, but at least a good start. With a binary classification task including this many samples, we can probably do better.\n",
    "\n",
    "## Let's make our model a bit more expressive."
   ]
  },
  {
   "cell_type": "code",
   "execution_count": 21,
   "id": "8c9fb7f7",
   "metadata": {},
   "outputs": [
    {
     "name": "stdout",
     "output_type": "stream",
     "text": [
      "Epoch 9. Loss 0.26207399368286133\n",
      "Epoch 19. Loss 0.2484678030014038\n",
      "Epoch 29. Loss 0.490213006734848\n",
      "Epoch 39. Loss 0.3140726089477539\n",
      "Epoch 49. Loss 0.007724680006504059\n",
      "Epoch 59. Loss 0.010667456313967705\n",
      "Epoch 69. Loss 0.0067721083760261536\n",
      "Epoch 79. Loss 0.009544343687593937\n",
      "Epoch 89. Loss 0.0025051722768694162\n",
      "Epoch 99. Loss 0.01217687875032425\n"
     ]
    }
   ],
   "source": [
    "model = nn.Sequential(\n",
    "    nn.Linear(input_dim, 1024),\n",
    "    nn.Tanh(),\n",
    "    nn.Linear(1024, 512),\n",
    "    nn.Tanh(),\n",
    "    nn.Linear(512, 128),\n",
    "    nn.Tanh(),\n",
    "    nn.Linear(128, output_dim))\n",
    "\n",
    "optimizer = torch.optim.SGD(model.parameters(), lr=1e-2)\n",
    "\n",
    "loss_fn = nn.CrossEntropyLoss()\n",
    "\n",
    "train_model(model, loss_fn, optimizer, n_epochs=100)"
   ]
  },
  {
   "cell_type": "code",
   "execution_count": 22,
   "id": "d6c3e32f",
   "metadata": {},
   "outputs": [
    {
     "name": "stdout",
     "output_type": "stream",
     "text": [
      "Accuracy: 0.793\n"
     ]
    }
   ],
   "source": [
    "correct = 0\n",
    "total = 0\n",
    "with torch.no_grad():\n",
    "    for imgs, labels in val_loader:\n",
    "        batch_size = imgs.shape[0]\n",
    "        outputs = model(imgs.reshape(batch_size, -1))\n",
    "        _, predicted = torch.max(outputs, dim=1)\n",
    "        total += labels.shape[0]\n",
    "        correct += int((predicted == labels).sum())\n",
    "print(f\"Accuracy: {float(correct/total)}\")"
   ]
  },
  {
   "cell_type": "markdown",
   "id": "691ba2db",
   "metadata": {},
   "source": [
    "## Well, well. Our validation accuracy got even worse! That's not too surprising: we're well into the territory of _overfitting_."
   ]
  },
  {
   "cell_type": "markdown",
   "id": "e8565d12",
   "metadata": {},
   "source": [
    "## Instead of trying to reduce the above overfitting issue, let's switch gears to a less naive model: CNNs (conv nets)"
   ]
  },
  {
   "cell_type": "code",
   "execution_count": 23,
   "id": "de82e718",
   "metadata": {},
   "outputs": [
    {
     "data": {
      "text/plain": [
       "Conv2d(3, 16, kernel_size=(3, 3), stride=(1, 1))"
      ]
     },
     "execution_count": 23,
     "metadata": {},
     "output_type": "execute_result"
    }
   ],
   "source": [
    "conv = nn.Conv2d(3, 16, kernel_size=3)\n",
    "conv"
   ]
  },
  {
   "cell_type": "code",
   "execution_count": 25,
   "id": "596dcc34",
   "metadata": {},
   "outputs": [
    {
     "data": {
      "text/plain": [
       "(torch.Size([16, 3, 3, 3]), torch.Size([16]))"
      ]
     },
     "execution_count": 25,
     "metadata": {},
     "output_type": "execute_result"
    }
   ],
   "source": [
    "conv.weight.shape, conv.bias.shape"
   ]
  },
  {
   "cell_type": "code",
   "execution_count": 30,
   "id": "bb822b3b",
   "metadata": {},
   "outputs": [
    {
     "data": {
      "text/plain": [
       "(torch.Size([3, 32, 32]), torch.Size([1, 3, 16, 16]))"
      ]
     },
     "execution_count": 30,
     "metadata": {},
     "output_type": "execute_result"
    }
   ],
   "source": [
    "pool = nn.MaxPool2d(2)\n",
    "img_in = transform_pipeline(img)\n",
    "output = pool(img_in.unsqueeze(0))\n",
    "img_in.shape, output.shape"
   ]
  },
  {
   "cell_type": "markdown",
   "id": "4752ab27",
   "metadata": {},
   "source": [
    "## As practice, we'll build out the CNN via subclassing."
   ]
  },
  {
   "cell_type": "code",
   "execution_count": 31,
   "id": "46e26c4e",
   "metadata": {},
   "outputs": [],
   "source": [
    "class CNN(nn.Module):\n",
    "    def __init__(self):\n",
    "        super().__init__()\n",
    "        self.conv1 = nn.Conv2d(3, 16, kernel_size=3, padding=1)\n",
    "        self.act1 = nn.Tanh()\n",
    "        self.pool1 = nn.MaxPool2d(2)\n",
    "        self.conv2 = nn.Conv2d(16, 8, kernel_size=3, padding=1)\n",
    "        self.act2 = nn.Tanh()\n",
    "        self.pool2 = nn.MaxPool2d(2)\n",
    "        self.fc1 = nn.Linear(8*8*8, 32)\n",
    "        self.act3 = nn.Tanh()\n",
    "        self.fc2 = nn.Linear(32, 2)\n",
    "    \n",
    "    def forward(self, x):\n",
    "        out = self.pool1(self.act1(self.conv1(x)))\n",
    "        out = self.pool2(self.act2(self.conv2(out)))\n",
    "        out = out.reshape(-1, 8*8*8)\n",
    "        out = self.act3(self.fc1(out))\n",
    "        out = self.fc2(out)\n",
    "        return out"
   ]
  },
  {
   "cell_type": "code",
   "execution_count": 32,
   "id": "ebee911d",
   "metadata": {},
   "outputs": [
    {
     "data": {
      "text/plain": [
       "(18090, [432, 16, 1152, 8, 16384, 32, 64, 2])"
      ]
     },
     "execution_count": 32,
     "metadata": {},
     "output_type": "execute_result"
    }
   ],
   "source": [
    "model = CNN()\n",
    "numel_list = [p.numel() for p in model.parameters()]\n",
    "sum(numel_list), numel_list"
   ]
  },
  {
   "cell_type": "markdown",
   "id": "0b23b87b",
   "metadata": {},
   "source": [
    "## But we could also define our module more \"functionally\" in Torch"
   ]
  },
  {
   "cell_type": "code",
   "execution_count": 33,
   "id": "8265bb8d",
   "metadata": {},
   "outputs": [],
   "source": [
    "import torch.nn.functional as F\n",
    "\n",
    "class CNN_functional(nn.Module):\n",
    "    def __init__(self):\n",
    "        super().__init__()\n",
    "        self.conv1 = nn.Conv2d(3, 16, kernel_size=3, padding=1)\n",
    "        self.conv2 = nn.Conv2d(16, 8, kernel_size=3, padding=1)\n",
    "        self.fc1 = nn.Linear(8*8*8, 32)\n",
    "        self.fc2 = nn.Linear(32, 2)\n",
    "    \n",
    "    def forward(self, x):\n",
    "        out = F.max_pool2d(torch.tanh(self.conv1(x)), 2)\n",
    "        out = F.max_pool2d(torch.tanh(self.conv2(out)), 2)\n",
    "        out = out.reshape(-1, 8*8*8)\n",
    "        out = torch.tanh(self.fc1(out))\n",
    "        out = self.fc2(out)\n",
    "        return out"
   ]
  },
  {
   "cell_type": "markdown",
   "id": "2bdbca17",
   "metadata": {},
   "source": [
    "### Testing to make sure both of the above can run..."
   ]
  },
  {
   "cell_type": "code",
   "execution_count": 42,
   "id": "8434fda7",
   "metadata": {},
   "outputs": [
    {
     "name": "stdout",
     "output_type": "stream",
     "text": [
      "torch.Size([1, 3, 32, 32])\n"
     ]
    },
    {
     "data": {
      "text/plain": [
       "(tensor([[0.0067, 0.0337]], grad_fn=<AddmmBackward>),\n",
       " tensor([[0.0600, 0.0294]], grad_fn=<AddmmBackward>))"
      ]
     },
     "execution_count": 42,
     "metadata": {},
     "output_type": "execute_result"
    }
   ],
   "source": [
    "model1 = CNN()\n",
    "model2 = CNN_functional()\n",
    "\n",
    "test = img_in.unsqueeze(0)\n",
    "print(test.shape)\n",
    "model1(test), model2(test)"
   ]
  },
  {
   "cell_type": "markdown",
   "id": "6c1fbfd7",
   "metadata": {},
   "source": [
    "## Now let's build out a training loop:"
   ]
  },
  {
   "cell_type": "code",
   "execution_count": 47,
   "id": "e1679b49",
   "metadata": {},
   "outputs": [
    {
     "name": "stdout",
     "output_type": "stream",
     "text": [
      "2022-02-08 06:55:46.466087. Epoch: 1, Training Loss: 0.5725577071214177\n",
      "2022-02-08 06:55:52.427670. Epoch: 10, Training Loss: 0.3302003230638565\n",
      "2022-02-08 06:55:58.956198. Epoch: 20, Training Loss: 0.2904417769164796\n",
      "2022-02-08 06:56:05.475709. Epoch: 30, Training Loss: 0.2663229017690488\n",
      "2022-02-08 06:56:12.006944. Epoch: 40, Training Loss: 0.24894204090355307\n",
      "2022-02-08 06:56:18.514733. Epoch: 50, Training Loss: 0.23171078110006965\n",
      "2022-02-08 06:56:25.029610. Epoch: 60, Training Loss: 0.21815557697206545\n",
      "2022-02-08 06:56:31.531160. Epoch: 70, Training Loss: 0.20302774913751395\n",
      "2022-02-08 06:56:38.041947. Epoch: 80, Training Loss: 0.1889920921842004\n",
      "2022-02-08 06:56:44.782591. Epoch: 90, Training Loss: 0.17352291168111145\n",
      "2022-02-08 06:56:51.309863. Epoch: 100, Training Loss: 0.16005158868090363\n"
     ]
    }
   ],
   "source": [
    "from datetime import datetime as dt\n",
    "\n",
    "def training_loop(\n",
    "        n_epochs,\n",
    "        optimizer,\n",
    "        model,\n",
    "        loss_fn,\n",
    "        train_loader):\n",
    "    for epoch in range(1, n_epochs + 1):\n",
    "        loss_train = 0.0\n",
    "        for imgs, labels in train_loader:\n",
    "            \n",
    "            outputs = model(imgs)\n",
    "            loss = loss_fn(outputs, labels)\n",
    "            optimizer.zero_grad()\n",
    "            loss.backward()\n",
    "            optimizer.step()\n",
    "            loss_train += loss.item()\n",
    "        if epoch == 1 or epoch % 10 == 0:\n",
    "            print(f\"{dt.now()}. Epoch: {epoch}, Training Loss: {loss_train/len(train_loader)}\")\n",
    "\n",
    "n_epochs = 100            \n",
    "train_loader = torch.utils.data.DataLoader(cifar2, batch_size=64, shuffle=True)\n",
    "model = CNN_functional()\n",
    "optimizer = torch.optim.SGD(model.parameters(), lr=1e-2)\n",
    "loss_fn = nn.CrossEntropyLoss()\n",
    "\n",
    "training_loop(\n",
    "    n_epochs,\n",
    "    optimizer,\n",
    "    model,\n",
    "    loss_fn,\n",
    "    train_loader)"
   ]
  },
  {
   "cell_type": "markdown",
   "id": "2a96b624",
   "metadata": {},
   "source": [
    "## But who cares about training loss! Let's check out accuracy of prediction (and use a validation set while we're at it)."
   ]
  },
  {
   "cell_type": "code",
   "execution_count": 50,
   "id": "7ab22e8e",
   "metadata": {},
   "outputs": [
    {
     "name": "stdout",
     "output_type": "stream",
     "text": [
      "training: 0.9417\n",
      "validation: 0.885\n"
     ]
    }
   ],
   "source": [
    "train_loader = torch.utils.data.DataLoader(cifar2, batch_size=64, shuffle=False)\n",
    "val_loader = torch.utils.data.DataLoader(cifar2_val, batch_size=64, shuffle=False)\n",
    "\n",
    "def validate(model, train_loader, val_loader):\n",
    "    for name, loader in [(\"training\", train_loader), (\"validation\", val_loader)]:\n",
    "        correct = 0\n",
    "        total = 0\n",
    "        for imgs, labels in loader:\n",
    "            total += labels.shape[0]\n",
    "            _, outputs = torch.max(model(imgs), dim=1) # torch.max returns max_value, index\n",
    "            correct += int((outputs == labels).sum())\n",
    "        print(f\"{name}: {correct/total}\")\n",
    "\n",
    "validate(model, train_loader, val_loader)"
   ]
  },
  {
   "cell_type": "markdown",
   "id": "fe490cf6",
   "metadata": {},
   "source": [
    "## Much better than our naive model. There would still be plenty of hyper-parameter fitting to do (n_epochs, filter sizes, NN architecture, etc), but we will leave that to another day. On to bigger and better things!"
   ]
  }
 ],
 "metadata": {
  "kernelspec": {
   "display_name": "Python 3",
   "language": "python",
   "name": "python3"
  },
  "language_info": {
   "codemirror_mode": {
    "name": "ipython",
    "version": 3
   },
   "file_extension": ".py",
   "mimetype": "text/x-python",
   "name": "python",
   "nbconvert_exporter": "python",
   "pygments_lexer": "ipython3",
   "version": "3.8.8"
  }
 },
 "nbformat": 4,
 "nbformat_minor": 5
}
