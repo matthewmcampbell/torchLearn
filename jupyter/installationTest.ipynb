{
 "cells": [
  {
   "cell_type": "markdown",
   "id": "9cc2318e",
   "metadata": {},
   "source": [
    "## Making sure PyTorch is installed properly on Ubuntu 20.04 with GPU enabled."
   ]
  },
  {
   "cell_type": "code",
   "execution_count": 1,
   "id": "0af11047",
   "metadata": {},
   "outputs": [],
   "source": [
    "import torch"
   ]
  },
  {
   "cell_type": "code",
   "execution_count": 2,
   "id": "e85b355d",
   "metadata": {},
   "outputs": [
    {
     "data": {
      "text/plain": [
       "tensor([[0.4727, 0.6619],\n",
       "        [0.4348, 0.2653],\n",
       "        [0.7276, 0.5812],\n",
       "        [0.5494, 0.2176],\n",
       "        [0.0506, 0.5353]])"
      ]
     },
     "execution_count": 2,
     "metadata": {},
     "output_type": "execute_result"
    }
   ],
   "source": [
    "torch.rand(5,2)"
   ]
  },
  {
   "cell_type": "code",
   "execution_count": 3,
   "id": "64ccc6eb",
   "metadata": {},
   "outputs": [
    {
     "data": {
      "text/plain": [
       "True"
      ]
     },
     "execution_count": 3,
     "metadata": {},
     "output_type": "execute_result"
    }
   ],
   "source": [
    "torch.cuda.is_available()"
   ]
  },
  {
   "cell_type": "markdown",
   "id": "65a80c1e",
   "metadata": {},
   "source": [
    "## Hooray!"
   ]
  }
 ],
 "metadata": {
  "kernelspec": {
   "display_name": "Python 3",
   "language": "python",
   "name": "python3"
  },
  "language_info": {
   "codemirror_mode": {
    "name": "ipython",
    "version": 3
   },
   "file_extension": ".py",
   "mimetype": "text/x-python",
   "name": "python",
   "nbconvert_exporter": "python",
   "pygments_lexer": "ipython3",
   "version": "3.8.8"
  }
 },
 "nbformat": 4,
 "nbformat_minor": 5
}
