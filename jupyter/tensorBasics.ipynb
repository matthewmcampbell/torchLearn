{
 "cells": [
  {
   "cell_type": "markdown",
   "id": "934c9f14",
   "metadata": {},
   "source": [
    "# This Jupyter doc goes through the basics of PyTorch tensor functionality"
   ]
  },
  {
   "cell_type": "markdown",
   "id": "d9f3dedd",
   "metadata": {},
   "source": [
    "## Imports"
   ]
  },
  {
   "cell_type": "code",
   "execution_count": 1,
   "id": "b8c7e627",
   "metadata": {},
   "outputs": [],
   "source": [
    "import torch\n",
    "import numpy as np"
   ]
  },
  {
   "cell_type": "markdown",
   "id": "580d8f84",
   "metadata": {},
   "source": [
    "## The basic operations"
   ]
  },
  {
   "cell_type": "code",
   "execution_count": 2,
   "id": "8f05f48d",
   "metadata": {},
   "outputs": [
    {
     "data": {
      "text/plain": [
       "tensor([1., 1., 1., 1., 1.])"
      ]
     },
     "execution_count": 2,
     "metadata": {},
     "output_type": "execute_result"
    }
   ],
   "source": [
    "a = torch.ones(5)\n",
    "a"
   ]
  },
  {
   "cell_type": "code",
   "execution_count": 3,
   "id": "92a656c4",
   "metadata": {},
   "outputs": [],
   "source": [
    "a[4] *= 2"
   ]
  },
  {
   "cell_type": "code",
   "execution_count": 4,
   "id": "cf5536d9",
   "metadata": {},
   "outputs": [
    {
     "data": {
      "text/plain": [
       "tensor([1., 1., 1., 1., 2.])"
      ]
     },
     "execution_count": 4,
     "metadata": {},
     "output_type": "execute_result"
    }
   ],
   "source": [
    "a"
   ]
  },
  {
   "cell_type": "code",
   "execution_count": 5,
   "id": "21bda995",
   "metadata": {},
   "outputs": [
    {
     "data": {
      "text/plain": [
       "tensor([[3, 3],\n",
       "        [4, 2],\n",
       "        [2, 4],\n",
       "        [4, 1],\n",
       "        [4, 3],\n",
       "        [1, 1],\n",
       "        [2, 3],\n",
       "        [2, 4],\n",
       "        [2, 0],\n",
       "        [4, 3]])"
      ]
     },
     "execution_count": 5,
     "metadata": {},
     "output_type": "execute_result"
    }
   ],
   "source": [
    "np.random.seed(42)\n",
    "x = np.random.randint(0, 5, 10)\n",
    "y = np.random.randint(0, 5, 10)\n",
    "z = torch.tensor(list(zip(x,y)))\n",
    "z"
   ]
  },
  {
   "cell_type": "code",
   "execution_count": 6,
   "id": "9ad99de3",
   "metadata": {},
   "outputs": [
    {
     "name": "stdout",
     "output_type": "stream",
     "text": [
      "torch.Size([10, 2])\n"
     ]
    },
    {
     "data": {
      "text/plain": [
       "tensor(4)"
      ]
     },
     "execution_count": 6,
     "metadata": {},
     "output_type": "execute_result"
    }
   ],
   "source": [
    "print(z.shape)\n",
    "z[2,1]"
   ]
  },
  {
   "cell_type": "code",
   "execution_count": 7,
   "id": "cb3769d2",
   "metadata": {},
   "outputs": [
    {
     "data": {
      "text/plain": [
       "(torch.Size([5, 5]), torch.Size([2, 5, 5]))"
      ]
     },
     "execution_count": 7,
     "metadata": {},
     "output_type": "execute_result"
    }
   ],
   "source": [
    "img_t = torch.randn(3, 5, 5)\n",
    "weights = torch.tensor([0.2126, 0.7152, 0.0722])\n",
    "batch_t = torch.randn(2, 3, 5, 5)\n",
    "img_gray_naive = img_t.mean(-3)\n",
    "batch_gray_naive = batch_t.mean(-3)\n",
    "img_gray_naive.shape, batch_gray_naive.shape"
   ]
  },
  {
   "cell_type": "code",
   "execution_count": 8,
   "id": "5771c80b",
   "metadata": {},
   "outputs": [
    {
     "data": {
      "text/plain": [
       "torch.Size([3, 1, 1])"
      ]
     },
     "execution_count": 8,
     "metadata": {},
     "output_type": "execute_result"
    }
   ],
   "source": [
    "unsqueezed_weights = weights.unsqueeze(-1).unsqueeze(-1)\n",
    "img_weights = img_t * unsqueezed_weights\n",
    "batch_weights = batch_t * unsqueezed_weights\n",
    "img_gray_weighted = img_weights.sum(-3)\n",
    "batch_gray_weighted = batch_weights.sum(-3)\n",
    "unsqueezed_weights.shape"
   ]
  },
  {
   "cell_type": "markdown",
   "id": "56258d59",
   "metadata": {},
   "source": [
    "## Naming indices"
   ]
  },
  {
   "cell_type": "code",
   "execution_count": 9,
   "id": "b8425f72",
   "metadata": {},
   "outputs": [
    {
     "name": "stderr",
     "output_type": "stream",
     "text": [
      "/home/matthew/anaconda3/lib/python3.8/site-packages/torch/tensor.py:775: UserWarning: Named tensors and all their associated APIs are an experimental feature and subject to change. Please do not use them for anything important until they are released as stable. (Triggered internally at  /opt/conda/conda-bld/pytorch_1607370117127/work/c10/core/TensorImpl.h:848.)\n",
      "  return super(Tensor, self).refine_names(names)\n"
     ]
    },
    {
     "data": {
      "text/plain": [
       "tensor([[[-0.5480, -0.0092, -0.1346, -0.1241, -2.2838],\n",
       "         [ 1.1230,  0.5971, -0.4346, -0.3042,  0.1206],\n",
       "         [ 0.1667, -1.8539, -1.1092, -0.5838,  0.0361],\n",
       "         [ 1.3178,  1.3445, -1.0983, -1.0922,  0.5796],\n",
       "         [-0.8890,  2.0867,  0.4058, -0.1027, -2.0018]],\n",
       "\n",
       "        [[ 0.9609,  0.7659,  1.3246, -1.3996,  0.1082],\n",
       "         [-0.7594,  0.2788,  0.9425, -0.6120,  0.9174],\n",
       "         [ 1.9461,  0.3276, -0.1381, -2.6240, -0.1631],\n",
       "         [ 1.7288,  0.1805, -1.1185,  2.1546, -0.9104],\n",
       "         [-1.6101, -1.7304,  0.8133,  0.3978,  0.2337]],\n",
       "\n",
       "        [[ 1.4215, -0.1214,  0.5355,  2.0839, -0.2917],\n",
       "         [ 0.1251, -1.1606, -0.0918, -0.3545, -0.7282],\n",
       "         [-1.3327,  0.2494, -1.2413, -1.5679, -1.5581],\n",
       "         [ 0.6422,  0.2674,  1.5547,  0.1086,  0.8400],\n",
       "         [ 0.6756,  0.3440,  1.4134,  1.1330,  0.6265]]],\n",
       "       names=('channels', 'rows', 'columns'))"
      ]
     },
     "execution_count": 9,
     "metadata": {},
     "output_type": "execute_result"
    }
   ],
   "source": [
    "img_named = img_t.refine_names(..., 'channels', 'rows', 'columns')\n",
    "img_named"
   ]
  },
  {
   "cell_type": "markdown",
   "id": "5af1f369",
   "metadata": {},
   "source": [
    "## The contiguous storage of the tensor in memory (always 1-d)"
   ]
  },
  {
   "cell_type": "code",
   "execution_count": 10,
   "id": "c8915852",
   "metadata": {},
   "outputs": [
    {
     "data": {
      "text/plain": [
       " -0.5479626655578613\n",
       " -0.009231677278876305\n",
       " -0.13463722169399261\n",
       " -0.1241041049361229\n",
       " -2.2837562561035156\n",
       " 1.1229878664016724\n",
       " 0.5970594882965088\n",
       " -0.4346407651901245\n",
       " -0.3041590750217438\n",
       " 0.12058303505182266\n",
       " 0.1666673868894577\n",
       " -1.8538708686828613\n",
       " -1.1092164516448975\n",
       " -0.5837698578834534\n",
       " 0.036127254366874695\n",
       " 1.3178149461746216\n",
       " 1.3444547653198242\n",
       " -1.0982705354690552\n",
       " -1.0921915769577026\n",
       " 0.5795955061912537\n",
       " -0.8890042304992676\n",
       " 2.086700201034546\n",
       " 0.405773788690567\n",
       " -0.10267657041549683\n",
       " -2.0018293857574463\n",
       " 0.9609050750732422\n",
       " 0.7659482359886169\n",
       " 1.32461678981781\n",
       " -1.3996225595474243\n",
       " 0.10822612792253494\n",
       " -0.7593819499015808\n",
       " 0.2788005769252777\n",
       " 0.9424800872802734\n",
       " -0.6119564771652222\n",
       " 0.9173759818077087\n",
       " 1.9460675716400146\n",
       " 0.327575147151947\n",
       " -0.13810975849628448\n",
       " -2.6240336894989014\n",
       " -0.16309617459774017\n",
       " 1.728796362876892\n",
       " 0.18045714497566223\n",
       " -1.118470549583435\n",
       " 2.154550790786743\n",
       " -0.9104261994361877\n",
       " -1.6100770235061646\n",
       " -1.730409860610962\n",
       " 0.8132521510124207\n",
       " 0.3978330194950104\n",
       " 0.23368604481220245\n",
       " 1.4214694499969482\n",
       " -0.12141585350036621\n",
       " 0.5354829430580139\n",
       " 2.0839366912841797\n",
       " -0.2916921377182007\n",
       " 0.12505879998207092\n",
       " -1.160605549812317\n",
       " -0.09175213426351547\n",
       " -0.35446086525917053\n",
       " -0.7282460927963257\n",
       " -1.332703948020935\n",
       " 0.24940218031406403\n",
       " -1.2412928342819214\n",
       " -1.5678550004959106\n",
       " -1.5580661296844482\n",
       " 0.6421554684638977\n",
       " 0.2674262821674347\n",
       " 1.5546718835830688\n",
       " 0.10860440135002136\n",
       " 0.8400263786315918\n",
       " 0.6756324768066406\n",
       " 0.3440079391002655\n",
       " 1.4134013652801514\n",
       " 1.1330277919769287\n",
       " 0.6264851689338684\n",
       "[torch.FloatStorage of size 75]"
      ]
     },
     "execution_count": 10,
     "metadata": {},
     "output_type": "execute_result"
    }
   ],
   "source": [
    "img_named.storage()"
   ]
  },
  {
   "cell_type": "markdown",
   "id": "ebd87296",
   "metadata": {},
   "source": [
    "## Tensor methods with the form *_() modify data inplace"
   ]
  },
  {
   "cell_type": "code",
   "execution_count": 11,
   "id": "012301e1",
   "metadata": {},
   "outputs": [
    {
     "data": {
      "text/plain": [
       "tensor([[[0., 0., 0., 0., 0.],\n",
       "         [0., 0., 0., 0., 0.],\n",
       "         [0., 0., 0., 0., 0.],\n",
       "         [0., 0., 0., 0., 0.],\n",
       "         [0., 0., 0., 0., 0.]],\n",
       "\n",
       "        [[0., 0., 0., 0., 0.],\n",
       "         [0., 0., 0., 0., 0.],\n",
       "         [0., 0., 0., 0., 0.],\n",
       "         [0., 0., 0., 0., 0.],\n",
       "         [0., 0., 0., 0., 0.]],\n",
       "\n",
       "        [[0., 0., 0., 0., 0.],\n",
       "         [0., 0., 0., 0., 0.],\n",
       "         [0., 0., 0., 0., 0.],\n",
       "         [0., 0., 0., 0., 0.],\n",
       "         [0., 0., 0., 0., 0.]]], names=('channels', 'rows', 'columns'))"
      ]
     },
     "execution_count": 11,
     "metadata": {},
     "output_type": "execute_result"
    }
   ],
   "source": [
    "img_named.zero_()\n",
    "img_named"
   ]
  },
  {
   "cell_type": "markdown",
   "id": "deea8e9d",
   "metadata": {},
   "source": [
    "## Transposing without copying to new memory"
   ]
  },
  {
   "cell_type": "code",
   "execution_count": 12,
   "id": "5f399722",
   "metadata": {},
   "outputs": [
    {
     "data": {
      "text/plain": [
       "tensor([[3, 3],\n",
       "        [4, 2],\n",
       "        [2, 4],\n",
       "        [4, 1],\n",
       "        [4, 3],\n",
       "        [1, 1],\n",
       "        [2, 3],\n",
       "        [2, 4],\n",
       "        [2, 0],\n",
       "        [4, 3]])"
      ]
     },
     "execution_count": 12,
     "metadata": {},
     "output_type": "execute_result"
    }
   ],
   "source": [
    "z"
   ]
  },
  {
   "cell_type": "code",
   "execution_count": 13,
   "id": "8c7d181b",
   "metadata": {},
   "outputs": [
    {
     "data": {
      "text/plain": [
       "tensor([[3, 4, 2, 4, 4, 1, 2, 2, 2, 4],\n",
       "        [3, 2, 4, 1, 3, 1, 3, 4, 0, 3]])"
      ]
     },
     "execution_count": 13,
     "metadata": {},
     "output_type": "execute_result"
    }
   ],
   "source": [
    "z_t = z.t()\n",
    "z_t"
   ]
  },
  {
   "cell_type": "code",
   "execution_count": 14,
   "id": "a689182f",
   "metadata": {},
   "outputs": [
    {
     "data": {
      "text/plain": [
       "True"
      ]
     },
     "execution_count": 14,
     "metadata": {},
     "output_type": "execute_result"
    }
   ],
   "source": [
    "id(z.storage()) == id(z_t.storage())"
   ]
  },
  {
   "cell_type": "markdown",
   "id": "21ba6a79",
   "metadata": {},
   "source": [
    "## Higher order transpose"
   ]
  },
  {
   "cell_type": "code",
   "execution_count": 15,
   "id": "51b30264",
   "metadata": {},
   "outputs": [
    {
     "data": {
      "text/plain": [
       "(torch.Size([3, 4, 5]), torch.Size([5, 4, 3]))"
      ]
     },
     "execution_count": 15,
     "metadata": {},
     "output_type": "execute_result"
    }
   ],
   "source": [
    "s = torch.ones(3, 4, 5)\n",
    "s_t = s.transpose(0, 2)\n",
    "s.shape, s_t.shape"
   ]
  },
  {
   "cell_type": "markdown",
   "id": "cb7c7f47",
   "metadata": {},
   "source": [
    "## Pushing tensor to GPU manually\n",
    "#### Note that these operations take longer due to the overhead"
   ]
  },
  {
   "cell_type": "code",
   "execution_count": 16,
   "id": "388a2597",
   "metadata": {},
   "outputs": [],
   "source": [
    "q_gpu = torch.tensor(list(range(5)), device = \"cuda\")\n",
    "s_gpu = s.to(device = \"cuda\")"
   ]
  },
  {
   "cell_type": "markdown",
   "id": "c010053c",
   "metadata": {},
   "source": [
    "## Misc Experimentation"
   ]
  },
  {
   "cell_type": "code",
   "execution_count": 17,
   "id": "6ce82acd",
   "metadata": {},
   "outputs": [
    {
     "name": "stdout",
     "output_type": "stream",
     "text": [
      "tensor([[0, 1, 2],\n",
      "        [3, 4, 5],\n",
      "        [6, 7, 8]])\n"
     ]
    },
    {
     "data": {
      "text/plain": [
       "True"
      ]
     },
     "execution_count": 17,
     "metadata": {},
     "output_type": "execute_result"
    }
   ],
   "source": [
    "t = torch.tensor(list(range(9)))\n",
    "b = t.view(3, 3)\n",
    "print(b)\n",
    "id(b.storage()) == id(t.storage())"
   ]
  },
  {
   "cell_type": "code",
   "execution_count": 18,
   "id": "6889882b",
   "metadata": {},
   "outputs": [
    {
     "data": {
      "text/plain": [
       "tensor([ 1.0000,  0.5403, -0.4161, -0.9900, -0.6536,  0.2837,  0.9602,  0.7539,\n",
       "        -0.1455])"
      ]
     },
     "execution_count": 18,
     "metadata": {},
     "output_type": "execute_result"
    }
   ],
   "source": [
    "torch.cos(t.float())"
   ]
  },
  {
   "cell_type": "code",
   "execution_count": 19,
   "id": "fdd50ea3",
   "metadata": {},
   "outputs": [
    {
     "name": "stdout",
     "output_type": "stream",
     "text": [
      "tensor([0., 1., 2., 3., 4., 5., 6., 7., 8.])\n"
     ]
    },
    {
     "data": {
      "text/plain": [
       "tensor([ 1.0000,  0.5403, -0.4161, -0.9900, -0.6536,  0.2837,  0.9602,  0.7539,\n",
       "        -0.1455])"
      ]
     },
     "execution_count": 19,
     "metadata": {},
     "output_type": "execute_result"
    }
   ],
   "source": [
    "s = t.float()\n",
    "print(s)\n",
    "torch.cos_(s) ## In place operation\n",
    "s"
   ]
  }
 ],
 "metadata": {
  "kernelspec": {
   "display_name": "Python 3",
   "language": "python",
   "name": "python3"
  },
  "language_info": {
   "codemirror_mode": {
    "name": "ipython",
    "version": 3
   },
   "file_extension": ".py",
   "mimetype": "text/x-python",
   "name": "python",
   "nbconvert_exporter": "python",
   "pygments_lexer": "ipython3",
   "version": "3.8.8"
  }
 },
 "nbformat": 4,
 "nbformat_minor": 5
}
