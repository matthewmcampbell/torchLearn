{
 "cells": [
  {
   "cell_type": "markdown",
   "id": "fc92a186",
   "metadata": {},
   "source": [
    "## Importing the nn library and applying to a tensor."
   ]
  },
  {
   "cell_type": "code",
   "execution_count": 33,
   "id": "349b0f22",
   "metadata": {},
   "outputs": [],
   "source": [
    "import torch\n",
    "import torch.nn as nn\n",
    "from torch import Tensor\n",
    "from torch import optim\n",
    "import numpy as np"
   ]
  },
  {
   "cell_type": "code",
   "execution_count": 5,
   "id": "c1f75ee8",
   "metadata": {},
   "outputs": [
    {
     "data": {
      "text/plain": [
       "Linear(in_features=1, out_features=1, bias=True)"
      ]
     },
     "execution_count": 5,
     "metadata": {},
     "output_type": "execute_result"
    }
   ],
   "source": [
    "linear_model = nn.Linear(1, 1)\n",
    "linear_model"
   ]
  },
  {
   "cell_type": "code",
   "execution_count": 17,
   "id": "cb91faa0",
   "metadata": {},
   "outputs": [
    {
     "name": "stdout",
     "output_type": "stream",
     "text": [
      "torch.Size([3, 1])\n"
     ]
    },
    {
     "data": {
      "text/plain": [
       "tensor([[-0.4579],\n",
       "        [-0.5272],\n",
       "        [-0.5964]], grad_fn=<AddmmBackward>)"
      ]
     },
     "execution_count": 17,
     "metadata": {},
     "output_type": "execute_result"
    }
   ],
   "source": [
    "y = Tensor([1,2,3]).unsqueeze(1)\n",
    "print(y.shape)\n",
    "linear_model(y)"
   ]
  },
  {
   "cell_type": "markdown",
   "id": "fb7ebb53",
   "metadata": {},
   "source": [
    "# Building a training loop for a linear model\n",
    "\n",
    "## The motivation for this is to be aware that torch isn't just neural nets; it's general purpose backprop and autograd.\n",
    "\n",
    "## First we'll generate some data                                         "
   ]
  },
  {
   "cell_type": "code",
   "execution_count": 57,
   "id": "41937591",
   "metadata": {},
   "outputs": [],
   "source": [
    "n_samples = 5000\n",
    "n_val = int(0.2 * n_samples)\n",
    "x = np.random.rand(n_samples)\n",
    "y = 3*x + 4 + (np.random.rand(n_samples) - 0.5) # y ~ 3x + 4 with uniform noise\n",
    "\n",
    "shuffledIndices = torch.randperm(n_samples)\n",
    "trainIndices = shuffledIndices[:-n_val]\n",
    "valIndices = shuffledIndices[-n_val:]\n",
    "\n",
    "x_train, y_train = x[trainIndices], y[trainIndices]\n",
    "x_val, y_val = x[valIndices], y[valIndices]\n",
    "data = [x_train, x_val, y_train, y_val] # collecting in a single var to unpack later.\n",
    "data = [torch.from_numpy(d).float().unsqueeze(1) for d in data] # put data into clean form for Torch"
   ]
  },
  {
   "cell_type": "markdown",
   "id": "a84f8494",
   "metadata": {},
   "source": [
    "## Next our training loop definiton"
   ]
  },
  {
   "cell_type": "code",
   "execution_count": 65,
   "id": "12d95de2",
   "metadata": {},
   "outputs": [],
   "source": [
    "def training_loop(n_epochs, optimizer, model, loss, x_train, x_val, y_train, y_val):\n",
    "    for epoch in range(1, n_epochs + 1):\n",
    "        pred_train = model(x_train)\n",
    "        loss_train = loss(pred_train, y_train)\n",
    "        \n",
    "        pred_val   = model(x_val)\n",
    "        loss_val   = loss(pred_val, y_val)\n",
    "        \n",
    "        optimizer.zero_grad() # zero out accumulated gradient\n",
    "        loss_train.backward() # backprop step\n",
    "        optimizer.step() # gradient descent\n",
    "        \n",
    "        if epoch == 1 or epoch % 500 == 0:\n",
    "            print(f\" Epoch: {epoch}, Training/Validation Losses {loss_train}/{loss_val}\")"
   ]
  },
  {
   "cell_type": "markdown",
   "id": "a967338d",
   "metadata": {},
   "source": [
    "## Model run"
   ]
  },
  {
   "cell_type": "code",
   "execution_count": 66,
   "id": "fbfb96c7",
   "metadata": {},
   "outputs": [
    {
     "name": "stdout",
     "output_type": "stream",
     "text": [
      " Epoch: 1, Training/Validation Losses 22.277938842773438/21.952390670776367\n",
      " Epoch: 500, Training/Validation Losses 0.09619652479887009/0.0953688994050026\n",
      " Epoch: 1000, Training/Validation Losses 0.08639254420995712/0.086032435297966\n",
      " Epoch: 1500, Training/Validation Losses 0.08372040092945099/0.08355458080768585\n",
      " Epoch: 2000, Training/Validation Losses 0.08299215883016586/0.08291421830654144\n",
      " Epoch: 2500, Training/Validation Losses 0.08279364556074142/0.08275792002677917\n",
      " Epoch: 3000, Training/Validation Losses 0.08273955434560776/0.08272486180067062\n",
      "Parameter containing:\n",
      "tensor([[2.9905]], requires_grad=True)\n",
      "Parameter containing:\n",
      "tensor([4.0040], requires_grad=True)\n"
     ]
    }
   ],
   "source": [
    "linear_model = nn.Linear(1, 1) # should be sufficient for our linearly generated data\n",
    "optimizer = optim.SGD(linear_model.parameters(), lr=1e-2) # SGD optimizer\n",
    "\n",
    "training_loop(3000,\n",
    "              optimizer,\n",
    "              linear_model,\n",
    "              nn.MSELoss(),\n",
    "              *data\n",
    "             )\n",
    "\n",
    "print(linear_model.weight)\n",
    "print(linear_model.bias)"
   ]
  },
  {
   "cell_type": "code",
   "execution_count": null,
   "id": "726b38ff",
   "metadata": {},
   "outputs": [],
   "source": []
  }
 ],
 "metadata": {
  "kernelspec": {
   "display_name": "Python 3",
   "language": "python",
   "name": "python3"
  },
  "language_info": {
   "codemirror_mode": {
    "name": "ipython",
    "version": 3
   },
   "file_extension": ".py",
   "mimetype": "text/x-python",
   "name": "python",
   "nbconvert_exporter": "python",
   "pygments_lexer": "ipython3",
   "version": "3.8.8"
  }
 },
 "nbformat": 4,
 "nbformat_minor": 5
}
